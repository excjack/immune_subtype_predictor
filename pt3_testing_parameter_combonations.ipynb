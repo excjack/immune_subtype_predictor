{
 "cells": [
  {
   "cell_type": "markdown",
   "id": "de08931a",
   "metadata": {},
   "source": [
    "# Importing Packages and Datasets"
   ]
  },
  {
   "cell_type": "code",
   "execution_count": 1,
   "id": "594e65c1",
   "metadata": {},
   "outputs": [],
   "source": [
    "import numpy as np\n",
    "import pandas as pd\n",
    "import seaborn as sns\n",
    "import matplotlib.pyplot as plt\n",
    "from sklearn.model_selection import train_test_split\n",
    "from sklearn.ensemble import RandomForestClassifier\n",
    "from sklearn.datasets import make_classification\n",
    "from sklearn.model_selection import cross_val_score, cross_val_predict"
   ]
  },
  {
   "cell_type": "code",
   "execution_count": 4,
   "id": "ef1849be",
   "metadata": {
    "collapsed": true
   },
   "outputs": [
    {
     "ename": "KeyboardInterrupt",
     "evalue": "",
     "output_type": "error",
     "traceback": [
      "\u001b[0;31m---------------------------------------------------------------------------\u001b[0m",
      "\u001b[0;31mKeyboardInterrupt\u001b[0m                         Traceback (most recent call last)",
      "Cell \u001b[0;32mIn[4], line 1\u001b[0m\n\u001b[0;32m----> 1\u001b[0m dabigboy \u001b[38;5;241m=\u001b[39m \u001b[43mpd\u001b[49m\u001b[38;5;241;43m.\u001b[39;49m\u001b[43mread_csv\u001b[49m\u001b[43m(\u001b[49m\u001b[38;5;124;43m\"\u001b[39;49m\u001b[38;5;124;43mbase.xy.df.tsv\u001b[39;49m\u001b[38;5;124;43m\"\u001b[39;49m\u001b[43m,\u001b[49m\u001b[43m \u001b[49m\u001b[43mdelimiter\u001b[49m\u001b[38;5;241;43m=\u001b[39;49m\u001b[38;5;124;43m'\u001b[39;49m\u001b[38;5;130;43;01m\\t\u001b[39;49;00m\u001b[38;5;124;43m'\u001b[39;49m\u001b[43m)\u001b[49m\n\u001b[1;32m      2\u001b[0m dabigboy\n",
      "File \u001b[0;32m~/anaconda3/lib/python3.10/site-packages/pandas/util/_decorators.py:211\u001b[0m, in \u001b[0;36mdeprecate_kwarg.<locals>._deprecate_kwarg.<locals>.wrapper\u001b[0;34m(*args, **kwargs)\u001b[0m\n\u001b[1;32m    209\u001b[0m     \u001b[38;5;28;01melse\u001b[39;00m:\n\u001b[1;32m    210\u001b[0m         kwargs[new_arg_name] \u001b[38;5;241m=\u001b[39m new_arg_value\n\u001b[0;32m--> 211\u001b[0m \u001b[38;5;28;01mreturn\u001b[39;00m \u001b[43mfunc\u001b[49m\u001b[43m(\u001b[49m\u001b[38;5;241;43m*\u001b[39;49m\u001b[43margs\u001b[49m\u001b[43m,\u001b[49m\u001b[43m \u001b[49m\u001b[38;5;241;43m*\u001b[39;49m\u001b[38;5;241;43m*\u001b[39;49m\u001b[43mkwargs\u001b[49m\u001b[43m)\u001b[49m\n",
      "File \u001b[0;32m~/anaconda3/lib/python3.10/site-packages/pandas/util/_decorators.py:331\u001b[0m, in \u001b[0;36mdeprecate_nonkeyword_arguments.<locals>.decorate.<locals>.wrapper\u001b[0;34m(*args, **kwargs)\u001b[0m\n\u001b[1;32m    325\u001b[0m \u001b[38;5;28;01mif\u001b[39;00m \u001b[38;5;28mlen\u001b[39m(args) \u001b[38;5;241m>\u001b[39m num_allow_args:\n\u001b[1;32m    326\u001b[0m     warnings\u001b[38;5;241m.\u001b[39mwarn(\n\u001b[1;32m    327\u001b[0m         msg\u001b[38;5;241m.\u001b[39mformat(arguments\u001b[38;5;241m=\u001b[39m_format_argument_list(allow_args)),\n\u001b[1;32m    328\u001b[0m         \u001b[38;5;167;01mFutureWarning\u001b[39;00m,\n\u001b[1;32m    329\u001b[0m         stacklevel\u001b[38;5;241m=\u001b[39mfind_stack_level(),\n\u001b[1;32m    330\u001b[0m     )\n\u001b[0;32m--> 331\u001b[0m \u001b[38;5;28;01mreturn\u001b[39;00m \u001b[43mfunc\u001b[49m\u001b[43m(\u001b[49m\u001b[38;5;241;43m*\u001b[39;49m\u001b[43margs\u001b[49m\u001b[43m,\u001b[49m\u001b[43m \u001b[49m\u001b[38;5;241;43m*\u001b[39;49m\u001b[38;5;241;43m*\u001b[39;49m\u001b[43mkwargs\u001b[49m\u001b[43m)\u001b[49m\n",
      "File \u001b[0;32m~/anaconda3/lib/python3.10/site-packages/pandas/io/parsers/readers.py:950\u001b[0m, in \u001b[0;36mread_csv\u001b[0;34m(filepath_or_buffer, sep, delimiter, header, names, index_col, usecols, squeeze, prefix, mangle_dupe_cols, dtype, engine, converters, true_values, false_values, skipinitialspace, skiprows, skipfooter, nrows, na_values, keep_default_na, na_filter, verbose, skip_blank_lines, parse_dates, infer_datetime_format, keep_date_col, date_parser, dayfirst, cache_dates, iterator, chunksize, compression, thousands, decimal, lineterminator, quotechar, quoting, doublequote, escapechar, comment, encoding, encoding_errors, dialect, error_bad_lines, warn_bad_lines, on_bad_lines, delim_whitespace, low_memory, memory_map, float_precision, storage_options)\u001b[0m\n\u001b[1;32m    935\u001b[0m kwds_defaults \u001b[38;5;241m=\u001b[39m _refine_defaults_read(\n\u001b[1;32m    936\u001b[0m     dialect,\n\u001b[1;32m    937\u001b[0m     delimiter,\n\u001b[0;32m   (...)\u001b[0m\n\u001b[1;32m    946\u001b[0m     defaults\u001b[38;5;241m=\u001b[39m{\u001b[38;5;124m\"\u001b[39m\u001b[38;5;124mdelimiter\u001b[39m\u001b[38;5;124m\"\u001b[39m: \u001b[38;5;124m\"\u001b[39m\u001b[38;5;124m,\u001b[39m\u001b[38;5;124m\"\u001b[39m},\n\u001b[1;32m    947\u001b[0m )\n\u001b[1;32m    948\u001b[0m kwds\u001b[38;5;241m.\u001b[39mupdate(kwds_defaults)\n\u001b[0;32m--> 950\u001b[0m \u001b[38;5;28;01mreturn\u001b[39;00m \u001b[43m_read\u001b[49m\u001b[43m(\u001b[49m\u001b[43mfilepath_or_buffer\u001b[49m\u001b[43m,\u001b[49m\u001b[43m \u001b[49m\u001b[43mkwds\u001b[49m\u001b[43m)\u001b[49m\n",
      "File \u001b[0;32m~/anaconda3/lib/python3.10/site-packages/pandas/io/parsers/readers.py:611\u001b[0m, in \u001b[0;36m_read\u001b[0;34m(filepath_or_buffer, kwds)\u001b[0m\n\u001b[1;32m    608\u001b[0m     \u001b[38;5;28;01mreturn\u001b[39;00m parser\n\u001b[1;32m    610\u001b[0m \u001b[38;5;28;01mwith\u001b[39;00m parser:\n\u001b[0;32m--> 611\u001b[0m     \u001b[38;5;28;01mreturn\u001b[39;00m \u001b[43mparser\u001b[49m\u001b[38;5;241;43m.\u001b[39;49m\u001b[43mread\u001b[49m\u001b[43m(\u001b[49m\u001b[43mnrows\u001b[49m\u001b[43m)\u001b[49m\n",
      "File \u001b[0;32m~/anaconda3/lib/python3.10/site-packages/pandas/io/parsers/readers.py:1778\u001b[0m, in \u001b[0;36mTextFileReader.read\u001b[0;34m(self, nrows)\u001b[0m\n\u001b[1;32m   1771\u001b[0m nrows \u001b[38;5;241m=\u001b[39m validate_integer(\u001b[38;5;124m\"\u001b[39m\u001b[38;5;124mnrows\u001b[39m\u001b[38;5;124m\"\u001b[39m, nrows)\n\u001b[1;32m   1772\u001b[0m \u001b[38;5;28;01mtry\u001b[39;00m:\n\u001b[1;32m   1773\u001b[0m     \u001b[38;5;66;03m# error: \"ParserBase\" has no attribute \"read\"\u001b[39;00m\n\u001b[1;32m   1774\u001b[0m     (\n\u001b[1;32m   1775\u001b[0m         index,\n\u001b[1;32m   1776\u001b[0m         columns,\n\u001b[1;32m   1777\u001b[0m         col_dict,\n\u001b[0;32m-> 1778\u001b[0m     ) \u001b[38;5;241m=\u001b[39m \u001b[38;5;28;43mself\u001b[39;49m\u001b[38;5;241;43m.\u001b[39;49m\u001b[43m_engine\u001b[49m\u001b[38;5;241;43m.\u001b[39;49m\u001b[43mread\u001b[49m\u001b[43m(\u001b[49m\u001b[43m  \u001b[49m\u001b[38;5;66;43;03m# type: ignore[attr-defined]\u001b[39;49;00m\n\u001b[1;32m   1779\u001b[0m \u001b[43m        \u001b[49m\u001b[43mnrows\u001b[49m\n\u001b[1;32m   1780\u001b[0m \u001b[43m    \u001b[49m\u001b[43m)\u001b[49m\n\u001b[1;32m   1781\u001b[0m \u001b[38;5;28;01mexcept\u001b[39;00m \u001b[38;5;167;01mException\u001b[39;00m:\n\u001b[1;32m   1782\u001b[0m     \u001b[38;5;28mself\u001b[39m\u001b[38;5;241m.\u001b[39mclose()\n",
      "File \u001b[0;32m~/anaconda3/lib/python3.10/site-packages/pandas/io/parsers/c_parser_wrapper.py:230\u001b[0m, in \u001b[0;36mCParserWrapper.read\u001b[0;34m(self, nrows)\u001b[0m\n\u001b[1;32m    228\u001b[0m \u001b[38;5;28;01mtry\u001b[39;00m:\n\u001b[1;32m    229\u001b[0m     \u001b[38;5;28;01mif\u001b[39;00m \u001b[38;5;28mself\u001b[39m\u001b[38;5;241m.\u001b[39mlow_memory:\n\u001b[0;32m--> 230\u001b[0m         chunks \u001b[38;5;241m=\u001b[39m \u001b[38;5;28;43mself\u001b[39;49m\u001b[38;5;241;43m.\u001b[39;49m\u001b[43m_reader\u001b[49m\u001b[38;5;241;43m.\u001b[39;49m\u001b[43mread_low_memory\u001b[49m\u001b[43m(\u001b[49m\u001b[43mnrows\u001b[49m\u001b[43m)\u001b[49m\n\u001b[1;32m    231\u001b[0m         \u001b[38;5;66;03m# destructive to chunks\u001b[39;00m\n\u001b[1;32m    232\u001b[0m         data \u001b[38;5;241m=\u001b[39m _concatenate_chunks(chunks)\n",
      "File \u001b[0;32m~/anaconda3/lib/python3.10/site-packages/pandas/_libs/parsers.pyx:808\u001b[0m, in \u001b[0;36mpandas._libs.parsers.TextReader.read_low_memory\u001b[0;34m()\u001b[0m\n",
      "File \u001b[0;32m~/anaconda3/lib/python3.10/site-packages/pandas/_libs/parsers.pyx:890\u001b[0m, in \u001b[0;36mpandas._libs.parsers.TextReader._read_rows\u001b[0;34m()\u001b[0m\n",
      "File \u001b[0;32m~/anaconda3/lib/python3.10/site-packages/pandas/_libs/parsers.pyx:1037\u001b[0m, in \u001b[0;36mpandas._libs.parsers.TextReader._convert_column_data\u001b[0;34m()\u001b[0m\n",
      "File \u001b[0;32m~/anaconda3/lib/python3.10/site-packages/pandas/_libs/parsers.pyx:1083\u001b[0m, in \u001b[0;36mpandas._libs.parsers.TextReader._convert_tokens\u001b[0;34m()\u001b[0m\n",
      "File \u001b[0;32m~/anaconda3/lib/python3.10/site-packages/pandas/_libs/parsers.pyx:1158\u001b[0m, in \u001b[0;36mpandas._libs.parsers.TextReader._convert_with_dtype\u001b[0;34m()\u001b[0m\n",
      "File \u001b[0;32m~/anaconda3/lib/python3.10/site-packages/pandas/core/dtypes/common.py:1433\u001b[0m, in \u001b[0;36mis_extension_array_dtype\u001b[0;34m(arr_or_dtype)\u001b[0m\n\u001b[1;32m   1424\u001b[0m     \u001b[38;5;66;03m# Note: if other EA dtypes are ever held in HybridBlock, exclude those\u001b[39;00m\n\u001b[1;32m   1425\u001b[0m     \u001b[38;5;66;03m#  here too.\u001b[39;00m\n\u001b[1;32m   1426\u001b[0m     \u001b[38;5;66;03m# NB: need to check DatetimeTZDtype and not is_datetime64tz_dtype\u001b[39;00m\n\u001b[1;32m   1427\u001b[0m     \u001b[38;5;66;03m#  to exclude ArrowTimestampUSDtype\u001b[39;00m\n\u001b[1;32m   1428\u001b[0m     \u001b[38;5;28;01mreturn\u001b[39;00m \u001b[38;5;28misinstance\u001b[39m(dtype, ExtensionDtype) \u001b[38;5;129;01mand\u001b[39;00m \u001b[38;5;129;01mnot\u001b[39;00m \u001b[38;5;28misinstance\u001b[39m(\n\u001b[1;32m   1429\u001b[0m         dtype, (DatetimeTZDtype, PeriodDtype)\n\u001b[1;32m   1430\u001b[0m     )\n\u001b[0;32m-> 1433\u001b[0m \u001b[38;5;28;01mdef\u001b[39;00m \u001b[38;5;21mis_extension_array_dtype\u001b[39m(arr_or_dtype) \u001b[38;5;241m-\u001b[39m\u001b[38;5;241m>\u001b[39m \u001b[38;5;28mbool\u001b[39m:\n\u001b[1;32m   1434\u001b[0m     \u001b[38;5;124;03m\"\"\"\u001b[39;00m\n\u001b[1;32m   1435\u001b[0m \u001b[38;5;124;03m    Check if an object is a pandas extension array type.\u001b[39;00m\n\u001b[1;32m   1436\u001b[0m \n\u001b[0;32m   (...)\u001b[0m\n\u001b[1;32m   1476\u001b[0m \u001b[38;5;124;03m    False\u001b[39;00m\n\u001b[1;32m   1477\u001b[0m \u001b[38;5;124;03m    \"\"\"\u001b[39;00m\n\u001b[1;32m   1478\u001b[0m     dtype \u001b[38;5;241m=\u001b[39m \u001b[38;5;28mgetattr\u001b[39m(arr_or_dtype, \u001b[38;5;124m\"\u001b[39m\u001b[38;5;124mdtype\u001b[39m\u001b[38;5;124m\"\u001b[39m, arr_or_dtype)\n",
      "\u001b[0;31mKeyboardInterrupt\u001b[0m: "
     ]
    }
   ],
   "source": [
    "dabigboy = pd.read_csv(\"base.xy.df.tsv\", delimiter='\\t')\n",
    "dabigboy #the big dataset"
   ]
  },
  {
   "cell_type": "code",
   "execution_count": null,
   "id": "908e681a",
   "metadata": {},
   "outputs": [],
   "source": [
    "ensg = pd.read_csv(\"ensembl.tsv\", delimiter='\\t')\n",
    "ensg #the holy grail - has all ensembl id's"
   ]
  },
  {
   "cell_type": "code",
   "execution_count": null,
   "id": "4d1622e9",
   "metadata": {},
   "outputs": [],
   "source": [
    "panimmune = pd.read_csv('panimmune.tsv', delimiter='\\t')\n",
    "panimmune"
   ]
  },
  {
   "cell_type": "code",
   "execution_count": null,
   "id": "8578f278",
   "metadata": {},
   "outputs": [],
   "source": [
    "duplicates_mask = panimmune['SetName'].duplicated(keep=False)\n",
    "\n",
    "df_duplicates = panimmune[duplicates_mask]\n",
    "\n",
    "gene_sets = df_duplicates['SetName'].unique()\n",
    "\n",
    "print(\"Gene Sets:\")\n",
    "print(gene_sets)"
   ]
  },
  {
   "cell_type": "markdown",
   "id": "ecd93daa",
   "metadata": {},
   "source": [
    "# Training SVM Classifier Models With Various Hyper Parameters"
   ]
  },
  {
   "cell_type": "code",
   "execution_count": 6,
   "id": "64bff201",
   "metadata": {},
   "outputs": [],
   "source": [
    "from sklearn import svm\n",
    "\n",
    "# Picking out a single set column and assigning it a variable name\n",
    "gene_set_name = \"HER2_Immune_PCA_18006808\"\n",
    "testing_ds = panimmune[panimmune['SetName'] == gene_set_name]\n",
    "\n",
    "# Making ensembl filter\n",
    "testing_df = pd.merge(ensg, testing_ds, left_on='symbol', right_on='Gene', how='inner')\n",
    "testing_filter = testing_df.iloc[:, 1:2]\n",
    "\n",
    "# Filtering the big df with the ensembl filter\n",
    "ensemblIDs = set(testing_filter['id']) \n",
    "cols = list(dabigboy.columns)\n",
    "newCols = [a for a in cols if a in ensemblIDs]\n",
    "finalCols = cols[0:3]\n",
    "finalCols.extend(newCols)      \n",
    "testing_df = dabigboy[finalCols]"
   ]
  },
  {
   "cell_type": "code",
   "execution_count": 7,
   "id": "0813db56",
   "metadata": {},
   "outputs": [
    {
     "name": "stdout",
     "output_type": "stream",
     "text": [
      "[0.67209474 0.67703704 0.67407407 0.68888889 0.68740741]\n"
     ]
    }
   ],
   "source": [
    "# Making the train/test split\n",
    "df_train, df_test = train_test_split(testing_df, test_size=0.25)\n",
    "x_train = df_train.drop(columns=[\"Immune Subtype\", \"TCGA Participant Barcode\"]).values\n",
    "y_train = df_train[\"Immune Subtype\"].values\n",
    "xt, xv, yt, yv = train_test_split(x_train, y_train, test_size=0.25)\n",
    "\n",
    "# Making the cross fold validation with SVM model\n",
    "svmModel = svm.SVC()\n",
    "cross_val_score(svmModel, x_train, y_train, cv=5, scoring='accuracy')\n",
    "accuracies = cross_val_score(svmModel, x_train, y_train, cv=5, scoring='accuracy')\n",
    "print(accuracies)\n"
   ]
  },
  {
   "cell_type": "code",
   "execution_count": 22,
   "id": "0bca80c9",
   "metadata": {},
   "outputs": [
    {
     "name": "stdout",
     "output_type": "stream",
     "text": [
      "HER2_Immune_PCA_18006808 accuracy = 0.7865508676700388\n",
      "HER2_Immune_PCA_18006808 - C=0.2, kernel=linear - accuracy = 0.7712925953340461\n",
      "HER2_Immune_PCA_18006808 - C=0.2, kernel=poly - accuracy = 0.4950403816103298\n",
      "HER2_Immune_PCA_18006808 - C=0.2, kernel=rbf - accuracy = 0.6010961427748993\n",
      "HER2_Immune_PCA_18006808 - C=0.2, kernel=sigmoid - accuracy = 0.36839016366477506\n",
      "HER2_Immune_PCA_18006808 - C=0.5, kernel=linear - accuracy = 0.7712925953340461\n",
      "HER2_Immune_PCA_18006808 - C=0.5, kernel=poly - accuracy = 0.5332582175069221\n",
      "HER2_Immune_PCA_18006808 - C=0.5, kernel=rbf - accuracy = 0.6514599336568249\n",
      "HER2_Immune_PCA_18006808 - C=0.5, kernel=sigmoid - accuracy = 0.38275362557227843\n",
      "HER2_Immune_PCA_18006808 - C=1, kernel=linear - accuracy = 0.7712925953340461\n",
      "HER2_Immune_PCA_18006808 - C=1, kernel=poly - accuracy = 0.5665858486169367\n",
      "HER2_Immune_PCA_18006808 - C=1, kernel=rbf - accuracy = 0.6776785371604024\n",
      "HER2_Immune_PCA_18006808 - C=1, kernel=sigmoid - accuracy = 0.37964174685418206\n",
      "HER2_Immune_PCA_18006808 - C=1.5, kernel=linear - accuracy = 0.7712925953340461\n",
      "HER2_Immune_PCA_18006808 - C=1.5, kernel=poly - accuracy = 0.5895440962798475\n",
      "HER2_Immune_PCA_18006808 - C=1.5, kernel=rbf - accuracy = 0.6932323381857061\n",
      "HER2_Immune_PCA_18006808 - C=1.5, kernel=sigmoid - accuracy = 0.3757884694465006\n",
      "HER2_Immune_PCA_18006808 - C=2, kernel=linear - accuracy = 0.7712925953340461\n",
      "HER2_Immune_PCA_18006808 - C=2, kernel=poly - accuracy = 0.6042090084162623\n",
      "HER2_Immune_PCA_18006808 - C=2, kernel=rbf - accuracy = 0.7019714340543356\n",
      "HER2_Immune_PCA_18006808 - C=2, kernel=sigmoid - accuracy = 0.38186583326479695\n"
     ]
    }
   ],
   "source": [
    "# Define the parameter settings\n",
    "svm_params = {\n",
    "    'C': [0.2, 0.5, 1, 1.5, 2],\n",
    "    'kernel': ['linear', 'poly', 'rbf', 'sigmoid']\n",
    "}\n",
    "\n",
    "# Calculate and store the mean accuracy\n",
    "mean_accuracy = np.mean(accuracies)\n",
    "print(f'{gene_set_name} accuracy =', mean_accuracy)\n",
    "\n",
    "for C in svm_params['C']:\n",
    "    for kernel in svm_params['kernel']:\n",
    "        # Create and train the SVM model\n",
    "        svmModel = svm.SVC(C=C, kernel=kernel)\n",
    "        accuracies = cross_val_score(svmModel, x_train, y_train, cv=5, scoring='accuracy')\n",
    "        \n",
    "        # Print the results\n",
    "        print(f\"{gene_set_name} - C={C}, kernel={kernel} - accuracy =\", np.mean(accuracies))"
   ]
  },
  {
   "cell_type": "markdown",
   "id": "b4fe1313",
   "metadata": {},
   "source": [
    "# Training RF Models With Various Hyper Parameters"
   ]
  },
  {
   "cell_type": "code",
   "execution_count": 9,
   "id": "5f719bf3",
   "metadata": {},
   "outputs": [
    {
     "name": "stdout",
     "output_type": "stream",
     "text": [
      "HER2_Immune_PCA_18006808 =\n",
      "0.7865508676700388\n",
      "[0.78164323 0.8        0.75185185 0.81111111 0.78814815]\n"
     ]
    }
   ],
   "source": [
    "#test with rf\n",
    "\n",
    "#picking out a single set column and assigning it a varible name\n",
    "testing_ds = panimmune[panimmune['SetName'] == \"HER2_Immune_PCA_18006808\"]\n",
    "    \n",
    "    #making ensembl filter\n",
    "testing_df = pd.merge(ensg, testing_ds, left_on = 'symbol', right_on = 'Gene', how = 'inner')\n",
    "testing_filter = testing_df.iloc[:, 1:2]\n",
    "\n",
    "    #filtering the big df with the filter ensmbl filter\n",
    "ensemblIDs = set(testing_filter['id']) \n",
    "cols = list(dabigboy.columns)\n",
    "newCols = [a for a in cols if a in ensemblIDs]\n",
    "finalCols = cols[0:3]\n",
    "finalCols.extend(newCols)      \n",
    "testing_df = dabigboy[finalCols]\n",
    "    \n",
    "    #making the train/test split\n",
    "df_train, df_test = train_test_split(testing_df, test_size=0.25)\n",
    "x_train = df_train.drop(columns=[\"Immune Subtype\", \"TCGA Participant Barcode\"]).values #we drop the columns we dont want to use to train, and we turn the graph back into arrays\n",
    "y_train = df_train[\"Immune Subtype\"].values\n",
    "xt, xv, yt, yv = train_test_split(x_train, y_train, test_size=0.25)\n",
    "    \n",
    "    #making the cross fold validation with Random Forest model\n",
    "rfModel = RandomForestClassifier()\n",
    "cross_val_score(rfModel, x_train, y_train, cv=5, scoring='accuracy')\n",
    "accuracies = cross_val_score(rfModel, x_train, y_train, cv=5, scoring='accuracy')\n",
    "print('HER2_Immune_PCA_18006808 =') \n",
    "print(np.mean(accuracies)) #kaplin myer, diffrential survival antlsis, upset plot\n",
    "print(accuracies)"
   ]
  },
  {
   "cell_type": "markdown",
   "id": "3d7cfde8",
   "metadata": {},
   "source": [
    "### Testing Several Sets of Parameters at a Time"
   ]
  },
  {
   "cell_type": "code",
   "execution_count": 24,
   "id": "e593f2f5",
   "metadata": {
    "scrolled": true
   },
   "outputs": [
    {
     "name": "stdout",
     "output_type": "stream",
     "text": [
      "HER2_Immune_PCA_18006808 - n_estimators=50, max_depth=None - accuracy = 0.7812190695506758\n",
      "HER2_Immune_PCA_18006808 - n_estimators=50, max_depth=10 - accuracy = 0.7844778901773721\n",
      "HER2_Immune_PCA_18006808 - n_estimators=50, max_depth=20 - accuracy = 0.7880332264166461\n",
      "HER2_Immune_PCA_18006808 - n_estimators=100, max_depth=None - accuracy = 0.7889202511171424\n",
      "HER2_Immune_PCA_18006808 - n_estimators=100, max_depth=10 - accuracy = 0.7832921567014832\n",
      "HER2_Immune_PCA_18006808 - n_estimators=100, max_depth=20 - accuracy = 0.7920314718863942\n",
      "HER2_Immune_PCA_18006808 - n_estimators=150, max_depth=None - accuracy = 0.7936604435671794\n",
      "HER2_Immune_PCA_18006808 - n_estimators=150, max_depth=10 - accuracy = 0.7825517449351647\n",
      "HER2_Immune_PCA_18006808 - n_estimators=150, max_depth=20 - accuracy = 0.7924767935959646\n"
     ]
    }
   ],
   "source": [
    "# Define a range of hyperparameter values to test\n",
    "n_estimators_values = [50, 100, 150]\n",
    "max_depth_values = [None, 10, 20]\n",
    "\n",
    "# Iterate over hyperparameter values\n",
    "for n_estimators in n_estimators_values:\n",
    "    for max_depth in max_depth_values:\n",
    "        # Create and train the RandomForestClassifier model\n",
    "        rfModel = RandomForestClassifier(n_estimators=n_estimators, max_depth=max_depth)\n",
    "        accuracies = cross_val_score(rfModel, x_train, y_train, cv=5, scoring='accuracy')\n",
    "        \n",
    "        # Print the results\n",
    "        print(f'HER2_Immune_PCA_18006808 - n_estimators={n_estimators}, max_depth={max_depth} - accuracy =', np.mean(accuracies))\n"
   ]
  },
  {
   "cell_type": "markdown",
   "id": "4d11a890",
   "metadata": {},
   "source": [
    "### Testing One Set of Parameters at a Time"
   ]
  },
  {
   "cell_type": "code",
   "execution_count": 28,
   "id": "a90ccc09",
   "metadata": {},
   "outputs": [
    {
     "name": "stdout",
     "output_type": "stream",
     "text": [
      "HER2_Immune_PCA_18006808 - n_estimators=150, max_depth=20 - accuracy = 0.7948454094360831\n"
     ]
    }
   ],
   "source": [
    "rfModel = RandomForestClassifier(n_estimators=250, max_depth=50)\n",
    "accuracies = cross_val_score(rfModel, x_train, y_train, cv=5, scoring='accuracy')\n",
    "        \n",
    "        # Print the results\n",
    "print(f'HER2_Immune_PCA_18006808 - n_estimators={n_estimators}, max_depth={max_depth} - accuracy =', np.mean(accuracies))\n"
   ]
  }
 ],
 "metadata": {
  "kernelspec": {
   "display_name": "Python 3 (ipykernel)",
   "language": "python",
   "name": "python3"
  },
  "language_info": {
   "codemirror_mode": {
    "name": "ipython",
    "version": 3
   },
   "file_extension": ".py",
   "mimetype": "text/x-python",
   "name": "python",
   "nbconvert_exporter": "python",
   "pygments_lexer": "ipython3",
   "version": "3.10.9"
  }
 },
 "nbformat": 4,
 "nbformat_minor": 5
}
